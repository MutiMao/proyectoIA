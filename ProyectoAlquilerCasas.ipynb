{
  "nbformat": 4,
  "nbformat_minor": 0,
  "metadata": {
    "colab": {
      "private_outputs": true,
      "provenance": [],
      "toc_visible": true,
      "authorship_tag": "ABX9TyN8b07+pkc1zHRLix8HQN3C",
      "include_colab_link": true
    },
    "kernelspec": {
      "name": "python3",
      "display_name": "Python 3"
    },
    "language_info": {
      "name": "python"
    }
  },
  "cells": [
    {
      "cell_type": "markdown",
      "metadata": {
        "id": "view-in-github",
        "colab_type": "text"
      },
      "source": [
        "<a href=\"https://colab.research.google.com/github/MutiMao/proyectoIA/blob/main/ProyectoAlquilerCasas.ipynb\" target=\"_parent\"><img src=\"https://colab.research.google.com/assets/colab-badge.svg\" alt=\"Open In Colab\"/></a>"
      ]
    },
    {
      "cell_type": "code",
      "execution_count": null,
      "metadata": {
        "id": "iAa1bnPXQ8CZ"
      },
      "outputs": [],
      "source": [
        "import pandas as pd\n",
        "import numpy as np\n",
        "from sklearn.preprocessing import MinMaxScaler\n",
        "from sklearn.model_selection import train_test_split\n",
        "from sklearn.linear_model import LinearRegression\n",
        "from sklearn.metrics import mean_squared_error, r2_score\n",
        "import matplotlib.pyplot as plt\n",
        "\n",
        "# Load the dataset\n",
        "try:\n",
        "    df = pd.read_excel('/content/sample_data/casas_version_final2.xlsx')\n",
        "except FileNotFoundError:\n",
        "    print(\"Error: 'casas_version_final2.xlsx' not found. Please upload the file.\")\n",
        "    exit()\n",
        "\n",
        "# Convert 'barrio' to numerical codes\n",
        "barrio_mapping = {barrio: code for code, barrio in enumerate(df['barrio'].unique())}\n",
        "df['barrio_code'] = df['barrio'].map(barrio_mapping)\n",
        "\n",
        "# Define features (X) and target (y)\n",
        "features = ['tipo', 'tamano', 'barrio_code', 'estrato', 'habitaciones', 'baños','mes', 'año']\n",
        "X = df[features]\n",
        "y = df['precio_alquiler']\n",
        "\n",
        "# Check for missing values and handle them (e.g., imputation)\n",
        "for col in X.columns:\n",
        "    if X[col].isnull().any():\n",
        "      X[col].fillna(X[col].mean(), inplace=True)\n",
        "\n",
        "# Normalize the data\n",
        "scaler = MinMaxScaler()\n",
        "X_normalized = scaler.fit_transform(X)\n",
        "\n",
        "# Split data into training and testing sets\n",
        "X_train, X_test, y_train, y_test = train_test_split(X_normalized, y, test_size=0.2, random_state=42)\n",
        "\n",
        "# Train the linear regression model\n",
        "model = LinearRegression()\n",
        "model.fit(X_train, y_train)\n",
        "\n",
        "# Make predictions\n",
        "y_pred = model.predict(X_test)\n",
        "\n",
        "# Evaluate the model\n",
        "mse = mean_squared_error(y_test, y_pred)\n",
        "r2 = r2_score(y_test, y_pred)\n",
        "print(f\"Mean Squared Error: {mse}\")\n",
        "print(f\"R-squared: {r2}\")\n",
        "\n",
        "# Prediction for June 2025\n",
        "# Example data point (replace with your desired values)\n",
        "new_data = pd.DataFrame([[1, 100, 10, 3, 2, 2, 6, 2025]], columns = features)\n",
        "new_data_normalized = scaler.transform(new_data)\n",
        "june_2025_prediction = model.predict(new_data_normalized)\n",
        "print(f\"Prediction for June 2025: {june_2025_prediction[0]}\")\n",
        "\n",
        "\"\"\"# Plotting (Example with 'tamano') assuming tamano is in the 1st column of X_test\n",
        "plt.figure(figsize=(10, 6))\n",
        "plt.scatter(X_test[:, 1], y_test, color='black', label='Actual Prices')  # Assuming 'tamano' is the second feature\n",
        "plt.plot(X_test[:, 1], y_pred, color='blue', linewidth=2, label='Regression Line') # Assuming 'tamano' is the second feature\n",
        "plt.xlabel('Tamaño (Normalized)')\n",
        "plt.ylabel('Precio de Alquiler')\n",
        "plt.title('Multiple Linear Regression Model')\n",
        "plt.legend()\n",
        "plt.show()\"\"\"\n",
        "\n",
        "\n",
        "# Graficar las predicciones vs. precio real\n",
        "plt.figure(figsize=(10, 6))\n",
        "plt.scatter(y_test, y_pred, color='blue', alpha=0.5)  # Puntos azules para las predicciones\n",
        "plt.plot([y_test.min(), y_test.max()], [y_test.min(), y_test.max()], color='red', linestyle='--')  # Línea roja diagonal\n",
        "plt.xlabel('Precio Real de Alquiler')\n",
        "plt.ylabel('Predicciones')\n",
        "plt.title('Predicciones vs. Precio Real de Alquiler')\n",
        "plt.show()"
      ]
    }
  ]
}